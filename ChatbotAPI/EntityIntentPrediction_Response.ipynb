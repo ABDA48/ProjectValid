{
 "cells": [
  {
   "cell_type": "code",
   "execution_count": 1,
   "id": "06fb2d91",
   "metadata": {},
   "outputs": [],
   "source": [
    "import tensorflow\n",
    "from tensorflow import keras\n",
    "from keras import models \n",
    "import json\n",
    "import numpy as np\n",
    "import pickle\n",
    "import nltk\n",
    "from nltk.corpus import stopwords\n",
    "import random\n",
    "import spacy"
   ]
  },
  {
   "cell_type": "code",
   "execution_count": 2,
   "id": "e3a24137",
   "metadata": {},
   "outputs": [],
   "source": [
    "model=models.load_model('ChatBotModel.h5')\n",
    "words=pickle.load(open('word.pkl','rb'))\n",
    "intents = json.loads(open('intents.json').read())\n",
    "classes = pickle.load(open('classes.pkl','rb'))\n",
    "lemmatizer=nltk.WordNetLemmatizer()\n",
    "nlp= spacy.load(r\".\\output\\model-best\") #load the best model"
   ]
  },
  {
   "cell_type": "code",
   "execution_count": 4,
   "id": "78d1ec8d",
   "metadata": {},
   "outputs": [],
   "source": [
    "def clean_up_sentence(sentence):\n",
    "    # tokenize the pattern - split words into array\n",
    "    sentence_words = nltk.word_tokenize(sentence)\n",
    "    # stem each word - create short form for word\n",
    "    sentence_words = [lemmatizer.lemmatize(word.lower()) for word in sentence_words]\n",
    "    return sentence_words"
   ]
  },
  {
   "cell_type": "code",
   "execution_count": 5,
   "id": "0aaf1c1a",
   "metadata": {},
   "outputs": [],
   "source": [
    "def bow(sentence, words, show_details=True):\n",
    "    # tokenize the pattern\n",
    "    sentence_words = clean_up_sentence(sentence)\n",
    "    # bag of words - matrix of N words, vocabulary matrix\n",
    "    bag = [0]*len(words)  \n",
    "    for s in sentence_words:\n",
    "        for i,w in enumerate(words):\n",
    "            if w == s: \n",
    "                # assign 1 if current word is in the vocabulary position\n",
    "                bag[i] = 1\n",
    "                if show_details:\n",
    "                    print (\"found in bag: %s\" % w)\n",
    "    return np.array(bag)"
   ]
  },
  {
   "cell_type": "code",
   "execution_count": 6,
   "id": "16a0c234",
   "metadata": {},
   "outputs": [],
   "source": [
    "def predict_class(sentence, model):\n",
    "    # filter out predictions below a threshold\n",
    "    p = bow(sentence, words,show_details=False)\n",
    "    res = model.predict(np.array([p]))[0]\n",
    "    print(res)\n",
    "    ERROR_THRESHOLD = 0.1\n",
    "    results = [[i,r] for i,r in enumerate(res) if r>ERROR_THRESHOLD]\n",
    "    # sort by strength of probability\n",
    "    results.sort(key=lambda x: x[1], reverse=True)\n",
    "    return_list = []\n",
    "    for r in results:\n",
    "        return_list.append({\"intent\": classes[r[0]], \"probability\": str(r[1])})\n",
    "    return return_list"
   ]
  },
  {
   "cell_type": "code",
   "execution_count": 15,
   "id": "d172d79c",
   "metadata": {},
   "outputs": [],
   "source": [
    "def getResponse(ints, intents_json):\n",
    "    tag = ints[0]['intent']\n",
    "    list_of_intents = intents_json['intents']\n",
    "    for i in list_of_intents:\n",
    "        if(i['tag']== tag):\n",
    "            result = random.choice(i['responses'])\n",
    "            break\n",
    "    return result,tag"
   ]
  },
  {
   "cell_type": "code",
   "execution_count": 33,
   "id": "62cd83fe",
   "metadata": {},
   "outputs": [
    {
     "data": {
      "text/html": [
       "<span class=\"tex2jax_ignore\"><div class=\"entities\" style=\"line-height: 2.5; direction: ltr\">what is the \n",
       "<mark class=\"entity\" style=\"background: #ddd; padding: 0.45em 0.6em; margin: 0 0.25em; line-height: 1; border-radius: 0.35em;\">\n",
       "    prevention\n",
       "    <span style=\"font-size: 0.8em; font-weight: bold; line-height: 1; border-radius: 0.35em; vertical-align: middle; margin-left: 0.5rem\">MEDICINE</span>\n",
       "</mark>\n",
       " for \n",
       "<mark class=\"entity\" style=\"background: #ddd; padding: 0.45em 0.6em; margin: 0 0.25em; line-height: 1; border-radius: 0.35em;\">\n",
       "    allergy\n",
       "    <span style=\"font-size: 0.8em; font-weight: bold; line-height: 1; border-radius: 0.35em; vertical-align: middle; margin-left: 0.5rem\">DISEASE</span>\n",
       "</mark>\n",
       "</div></span>"
      ],
      "text/plain": [
       "<IPython.core.display.HTML object>"
      ]
     },
     "metadata": {},
     "output_type": "display_data"
    }
   ],
   "source": []
  },
  {
   "cell_type": "code",
   "execution_count": 70,
   "id": "6fb97f83",
   "metadata": {},
   "outputs": [],
   "source": [
    "\n",
    "def EntityDiseasePrediction(question):\n",
    "    response1={}\n",
    "    while 1:  \n",
    "        doc=nlp(question)\n",
    "        response1['DISEASE']=\"\"\n",
    "        for d in doc.ents:\n",
    "            response1[d.label_]=d.text\n",
    "        print(response1)\n",
    "        if response1['DISEASE']==\"\":\n",
    "            answer=input(\"what desease do you want to know about ?\")\n",
    "            response1['DISEASE']=answer\n",
    "            return response1\n",
    "        else:\n",
    "            return response1"
   ]
  },
  {
   "cell_type": "code",
   "execution_count": 71,
   "id": "a5a2b82a",
   "metadata": {},
   "outputs": [],
   "source": [
    "def IntentPrediction(question):\n",
    "    ints =  predict_class(question,model)\n",
    "    print(ints)\n",
    "    res,tag = getResponse(ints, intents)\n",
    "    print(res,tag)\n",
    "    return res,tag\n",
    "    "
   ]
  },
  {
   "cell_type": "code",
   "execution_count": 72,
   "id": "80eb74ef",
   "metadata": {},
   "outputs": [],
   "source": [
    "def IntentConfirmation(res1,tag):\n",
    "    intent=\"\"\n",
    "    intent1=\"\"\n",
    "    for k,v in res1.items():\n",
    "        if k != 'DISEASE':\n",
    "            intent1=k\n",
    "        if intent1==\"\" and tag!=\"\":\n",
    "            intent=tag\n",
    "        if tag==\"\" and intent1!=\"\":\n",
    "            intent=intent1\n",
    "        if tag!=\"\" and intent1!=\"\":\n",
    "            intent=tag\n",
    "        if tag==\"\" and intent1==\"\":\n",
    "            question=input(\"do you whant to know the cause ,prevention,treatment or medicine fro this disease\")\n",
    "            intent=tag\n",
    "        disease=res1['DISEASE']\n",
    "        print(disease,intent)\n",
    "        return disease,intent\n"
   ]
  },
  {
   "cell_type": "code",
   "execution_count": 80,
   "id": "891bf2f7",
   "metadata": {},
   "outputs": [
    {
     "name": "stdout",
     "output_type": "stream",
     "text": [
      "enter your questionmy disease id cold\n",
      "{'DISEASE': 'cold'}\n",
      "1/1 [==============================] - 0s 10ms/step\n",
      "[0.05248609 0.1607967  0.3567187  0.03878918 0.09273721 0.04267721\n",
      " 0.19295897 0.06283598]\n",
      "[{'intent': 'greeting', 'probability': '0.3567187'}, {'intent': 'thanks', 'probability': '0.19295897'}, {'intent': 'goodbye', 'probability': '0.1607967'}]\n",
      "Hi, How is your health greeting\n",
      "cold greeting\n"
     ]
    }
   ],
   "source": [
    "question=input(\"enter your question\")\n",
    "res1=EntityDiseasePrediction(question)\n",
    "res,tag=IntentPrediction(question)\n",
    "disease,intent=IntentConfirmation(res1,tag)"
   ]
  },
  {
   "cell_type": "code",
   "execution_count": null,
   "id": "3d2207c6",
   "metadata": {},
   "outputs": [],
   "source": []
  },
  {
   "cell_type": "code",
   "execution_count": null,
   "id": "14451803",
   "metadata": {},
   "outputs": [],
   "source": []
  },
  {
   "cell_type": "code",
   "execution_count": null,
   "id": "8bb7ef2d",
   "metadata": {},
   "outputs": [],
   "source": []
  },
  {
   "cell_type": "code",
   "execution_count": null,
   "id": "917de7ab",
   "metadata": {},
   "outputs": [],
   "source": []
  },
  {
   "cell_type": "code",
   "execution_count": null,
   "id": "5cc861cc",
   "metadata": {},
   "outputs": [],
   "source": []
  },
  {
   "cell_type": "code",
   "execution_count": null,
   "id": "e369174e",
   "metadata": {},
   "outputs": [],
   "source": []
  }
 ],
 "metadata": {
  "kernelspec": {
   "display_name": "Python 3 (ipykernel)",
   "language": "python",
   "name": "python3"
  },
  "language_info": {
   "codemirror_mode": {
    "name": "ipython",
    "version": 3
   },
   "file_extension": ".py",
   "mimetype": "text/x-python",
   "name": "python",
   "nbconvert_exporter": "python",
   "pygments_lexer": "ipython3",
   "version": "3.9.12"
  }
 },
 "nbformat": 4,
 "nbformat_minor": 5
}
